{
 "cells": [
  {
   "cell_type": "markdown",
   "id": "fd88f137-6a13-4523-96b4-987b2bd1210e",
   "metadata": {},
   "source": [
    "# Visualise an organic molecule with <i>rdkit</i> and SMILES\n",
    "\n",
    "Lesson Objectives:\n",
    ">1. Install a package using <i>pip</i>\n",
    ">2. Draw a simple organic molecule using a SMILES string in <i>rdkit</i>\n",
    ">3. Query for SMILES strings in an online search\n",
    ">4. Write a molecule to a .mol file and visualise the 3D structure with VESTA"
   ]
  },
  {
   "cell_type": "markdown",
   "id": "c75b1e38-7a5d-421e-9224-2bc83969b987",
   "metadata": {},
   "source": [
    "## Step 1: Install the package with <i>pip</i> and import functionalities"
   ]
  },
  {
   "cell_type": "code",
   "execution_count": null,
   "id": "b4fbde48-fee8-4860-b3d4-d512d123bd3d",
   "metadata": {},
   "outputs": [],
   "source": [
    "pip install rdkit py3Dmol"
   ]
  },
  {
   "cell_type": "markdown",
   "id": "bea274b0-4208-46dd-897d-3dce6726b991",
   "metadata": {},
   "source": [
    "## Step 3: Create a <i>MolFromSmiles</i> object from a SMILES string"
   ]
  },
  {
   "cell_type": "code",
   "execution_count": null,
   "id": "0090a1a6-2cb1-4f7e-a7d8-611283c3ecdf",
   "metadata": {},
   "outputs": [],
   "source": [
    "from rdkit import Chem\n",
    "from rdkit.Chem import AllChem\n",
    "from rdkit.Chem import Draw\n",
    "from rdkit.Chem.Draw import IPythonConsole"
   ]
  },
  {
   "cell_type": "markdown",
   "id": "edee7240-476a-4423-89b5-fdfc433ff33d",
   "metadata": {},
   "source": [
    "### Example 1: the syntax of <i>rdkit</i>\n",
    "To try:\n",
    ">1. Ethanol: CCO\n",
    ">2. Benzene: c1ccccc1 (cyclic group)\n",
    ">3. Acetic acid: CC(=O)O (double bond)"
   ]
  },
  {
   "cell_type": "code",
   "execution_count": null,
   "id": "308a87ba-f662-4154-badf-cf36744dbb16",
   "metadata": {},
   "outputs": [],
   "source": [
    "my_mol = Chem.MolFromSmiles('CC(=O)O')\n",
    "my_mol"
   ]
  },
  {
   "cell_type": "markdown",
   "id": "52348383-72da-4bb6-bc09-237706ea6695",
   "metadata": {},
   "source": [
    "### Example 2: Caffeine"
   ]
  },
  {
   "cell_type": "code",
   "execution_count": null,
   "id": "0095744f-e0f3-4dfa-9067-f8e89b07532b",
   "metadata": {},
   "outputs": [],
   "source": [
    "my_mol = Chem.MolFromSmiles('Cn1cnc2c1c(=O)n(C)c(=O)n2C')\n",
    "my_mol"
   ]
  },
  {
   "cell_type": "markdown",
   "id": "9eeb2fd5-ffd2-4bf3-83d2-e3ac6c0c2c23",
   "metadata": {},
   "source": [
    "### Example 3: Maitotoxin"
   ]
  },
  {
   "cell_type": "code",
   "execution_count": null,
   "id": "73fb6be2-2cb4-448e-b270-9faef3b42679",
   "metadata": {},
   "outputs": [],
   "source": [
    "my_mol = Chem.MolFromSmiles('C[C@H](CC[C@@H]([C@@H]([C@H](C)C[C@H](C(=C)/C(=C/CO)/C)O)O)OS(=O)(=O)[O-])[C@H]([C@@H](C)[C@H]1[C@@H]([C@@H]([C@H]2[C@H]\\\n",
    "(O1)[C@@H](C[C@]3([C@H](O2)C[C@H]4[C@H](O3)C[C@]5([C@H](O4)[C@H]([C@H]6[C@H](O5)C[C@H]([C@H](O6)[C@@H]([C@H](C[C@H]7[C@@H]([C@@H]([C@H]8[C@H](O7)C\\\n",
    "[C@H]9[C@H](O8)C[C@H]1[C@H](O9)[C@H]([C@@H]2[C@@H](O1)[C@@H]([C@H]([C@@H](O2)[C@H]1[C@@H]([C@H]([C@H]2[C@@H](O1)C[C@H]([C@@H](O2)[C@@H](C[C@H](C[C@H]\\\n",
    "1[C@@H]([C@H]([C@H]2[C@@H](O1)C[C@H]([C@@H](O2)[C@H]1[C@@H](C[C@]2([C@H](O1)[C@@H]([C@]1([C@H](O2)C[C@]2([C@H](O1)CC[C@]1([C@H](O2)C[C@]2([C@H](O1)C\\\n",
    "[C@H]1[C@H](O2)CC[C@H](O1)[C@]1([C@@H](C[C@H]2[C@](O1)(C[C@H]1[C@](O2)(CC[C@]2([C@H](O1)C[C@H]1[C@](O2)(C[C@H]2[C@H](O1)C/C=C\\[C@H]1[C@H](O2)C[C@H]2\\\n",
    "[C@](O1)(C[C@]1([C@H](O2)C[C@H]2[C@](O1)(CC[C@H](O2)[C@H]([C@@H](C[C@@H](C)[C@@H](C)CC=C)O)O)C)C)C)C)C)C)C)O)C)C)C)C)C)O)C)O)O)O)O)O)O)O)O)O)O)O)O)O)\\\n",
    "OS(=O)(=O)[O-])O)O)O)O)C)C)O)O)O)O.[Na+].[Na+]')\n",
    "my_mol"
   ]
  },
  {
   "cell_type": "markdown",
   "id": "2aae46a1-9383-4d3a-bfb0-3cda6e6b3b17",
   "metadata": {},
   "source": [
    "### Try this!\n",
    "Search for your favourite molecule on the internet, and visualise it\n",
    "\n",
    "<b>Where to look?</b> You can start by searches from Sigma-Aldrich databases, Google, Wikipedia, etc. \n",
    "> However, if you look for controlled substances over Google, we do not take responsibility for impromptu police raids... (although one of us has tried, and the police did not bust down their door that night. Make of it what you will)\n",
    "\n",
    "<b>BONUS:</b> can you find a molecule which breaks <i>rdkit</i>? How does it do so?"
   ]
  },
  {
   "cell_type": "code",
   "execution_count": null,
   "id": "f3083c12-b468-478b-a215-7d21203df13e",
   "metadata": {},
   "outputs": [],
   "source": []
  },
  {
   "cell_type": "markdown",
   "id": "4cf47455-6710-442d-a339-b32f3e11783d",
   "metadata": {},
   "source": [
    "## Step 4: Export to image (<i>.png</i>)"
   ]
  },
  {
   "cell_type": "code",
   "execution_count": null,
   "id": "6c427ffb-ef6d-4b49-8816-3415c6f001c6",
   "metadata": {},
   "outputs": [],
   "source": [
    "img = Draw.MolToImage(my_mol)\n",
    "img.save(\"your-name-here.png\")\n",
    "img"
   ]
  },
  {
   "cell_type": "markdown",
   "id": "5e092329-a0d3-4df3-ac8e-b4c47515c960",
   "metadata": {},
   "source": [
    "## Optional Steps\n",
    "\n",
    "### Sanitise Molecule\n",
    "\n",
    "What does sanitisation mean?\n",
    "\n",
    "When you build a molecule from SMILES, MOL files, or fragments, RDKit often needs to:\n",
    ">1. Kekulize aromatic systems\n",
    ">2. Assign hybridisation states\n",
    ">3. Check valences (e.g. C with 5 bonds)\n",
    ">4. Flag errors (e.g. “bad valence” molecules)\n",
    "\n",
    "That’s what SanitizeMol() does. Normally it runs automatically when you create a molecule, but sometimes you want to:\n",
    ">1. Catch sanitisation errors instead of crashing,\n",
    ">2. Control which sanitisation steps are applied,\n",
    ">3. Deal with “dirty” molecules from external sources (e.g. SDFs)."
   ]
  },
  {
   "cell_type": "code",
   "execution_count": null,
   "id": "35fcebf4-e0d8-489c-89af-18c924e38592",
   "metadata": {},
   "outputs": [],
   "source": [
    "from rdkit import Chem\n",
    "from rdkit.Chem import rdmolops\n",
    "\n",
    "bad_smiles = \"C=[5H]\"   # nonsense valence\n",
    "mol = Chem.MolFromSmiles(bad_smiles, sanitize=False)  # skip automatic sanitization\n",
    "\n",
    "try:\n",
    "    rdmolops.SanitizeMol(mol)   # will throw an exception\n",
    "except Exception as e:\n",
    "    print(\"Sanitization failed:\", e)"
   ]
  },
  {
   "cell_type": "markdown",
   "id": "0009873f-d66e-4b33-8e1f-332eb94fe7b8",
   "metadata": {},
   "source": [
    "### Add hydrogen atoms (for embedding in 3D format)"
   ]
  },
  {
   "cell_type": "code",
   "execution_count": null,
   "id": "f160ce12-f37c-4bd3-a2a4-19e4c230976a",
   "metadata": {},
   "outputs": [],
   "source": [
    "my_mol = Chem.MolFromSmiles('Cn1cnc2c1c(=O)n(C)c(=O)n2C')\n",
    "my_mol"
   ]
  },
  {
   "cell_type": "code",
   "execution_count": null,
   "id": "7551bc66-19b5-4332-a33c-8bba3a075707",
   "metadata": {},
   "outputs": [],
   "source": [
    "my_mol = Chem.MolFromSmiles('Cn1cnc2c1c(=O)n(C)c(=O)n2C')\n",
    "my_mol_with_H=Chem.AddHs(my_mol)\n",
    "my_mol_with_H"
   ]
  },
  {
   "cell_type": "markdown",
   "id": "b59115d8-63f6-49a4-9372-37ba9486aa1d",
   "metadata": {},
   "source": [
    "## Step 5: Make a 3D molecule"
   ]
  },
  {
   "cell_type": "markdown",
   "id": "d86bf464-bf85-49af-9fac-9e114f60b3f0",
   "metadata": {},
   "source": [
    "### Variation 1: py3Dmol\n",
    "\n",
    "Example source: [J. Org. Chem. (2003), 68, 23, 8750–8766](https://pubs.acs.org/doi/10.1021/jo0349227)"
   ]
  },
  {
   "cell_type": "code",
   "execution_count": null,
   "id": "61daae05-af29-4572-85e1-7a61e465c31e",
   "metadata": {},
   "outputs": [],
   "source": [
    "import py3Dmol\n",
    "\n",
    "my_mol = Chem.AddHs(Chem.MolFromSmiles(\"O1CCOC1c1c(C#CC(C)(C)C)cc(c(C#CC(C)(C)C)c1)C#Cc1cc(C#CCCC)cc(C#CCCC)c1\"))\n",
    "AllChem.EmbedMolecule(my_mol, AllChem.ETKDG())\n",
    "AllChem.UFFOptimizeMolecule(my_mol)\n",
    "\n",
    "mb = Chem.MolToMolBlock(my_mol)\n",
    "viewer = py3Dmol.view(width=300, height=300)\n",
    "viewer.addModel(mb, \"mol\")\n",
    "viewer.setStyle({\"stick\": {}})\n",
    "viewer.zoomTo()\n",
    "viewer.show()"
   ]
  },
  {
   "cell_type": "markdown",
   "id": "cc1a3105-4cf4-4a27-9258-5028c7470a86",
   "metadata": {},
   "source": [
    "### Variation 2: Export to <i>.mol</i> format, visualise with VESTA\n",
    "\n",
    "[Download VESTA here](https://jp-minerals.org/vesta/en/download.html)\n",
    "\n",
    "Source of VESTA: [J. Appl. Cryst. (2011). 44, 1272-1276](https://scripts.iucr.org/cgi-bin/paper?S0021889811038970)\n",
    "\n",
    "(This feature is an in-class demo)"
   ]
  },
  {
   "cell_type": "code",
   "execution_count": null,
   "id": "2f89e4ed",
   "metadata": {},
   "outputs": [],
   "source": [
    "my_mol = Chem.MolFromSmiles('')\n",
    "my_mol_with_H=Chem.AddHs(my_mol)\n",
    "AllChem.EmbedMolecule(my_mol_with_H)\n",
    "AllChem.MMFFOptimizeMolecule(my_mol_with_H)\n",
    "my_mol_with_H"
   ]
  },
  {
   "cell_type": "code",
   "execution_count": null,
   "id": "a564cec9-1c53-46d7-8372-5cfcefda1d73",
   "metadata": {},
   "outputs": [],
   "source": [
    "Chem.MolToMolFile(my_mol_with_H,\"molfile.mol\")"
   ]
  },
  {
   "cell_type": "code",
   "execution_count": null,
   "id": "c03a8841-3912-4d92-95b3-b68abf0d1aff",
   "metadata": {},
   "outputs": [],
   "source": [
    "print(Chem.MolToMolBlock(my_mol_with_H))"
   ]
  },
  {
   "cell_type": "markdown",
   "id": "53bec626-7b2e-4c82-87a4-4b658886aebd",
   "metadata": {},
   "source": [
    "## Step 6: Characterise your Molecule"
   ]
  },
  {
   "cell_type": "markdown",
   "id": "5e29aabe-b241-4499-9e60-0d74bd63b5f2",
   "metadata": {},
   "source": [
    "### Molecular Weight, Fat Solubility"
   ]
  },
  {
   "cell_type": "code",
   "execution_count": null,
   "id": "ed3145b0-2759-4ba3-bb8d-544a975b74c0",
   "metadata": {},
   "outputs": [],
   "source": [
    "from rdkit.Chem import Descriptors\n",
    "\n",
    "mol = Chem.MolFromSmiles(\"c1ccccc1O\")  # phenol\n",
    "print(\"MolWt:\", Descriptors.MolWt(mol)) # Molecular Weight\n",
    "print(\"LogP:\", Descriptors.MolLogP(mol)) # Fat solubility\n",
    "print(\"Number of aromatic rings:\", Descriptors.NumAromaticRings(mol)) # Number of aromatic rings"
   ]
  },
  {
   "cell_type": "markdown",
   "id": "ce337bd0-559c-4b83-8f99-ea8325ae2424",
   "metadata": {},
   "source": [
    "### Highlight a functional group"
   ]
  },
  {
   "cell_type": "code",
   "execution_count": null,
   "id": "b7092d23-9cc8-4c35-97cd-145ca8096d90",
   "metadata": {},
   "outputs": [],
   "source": [
    "mol = Chem.MolFromSmiles(\"CC(=O)O\")  # acetic acid\n",
    "\n",
    "# Highlight carbonyl group\n",
    "pattern = Chem.MolFromSmarts(\"C=O\")\n",
    "matches = mol.GetSubstructMatches(pattern)\n",
    "\n",
    "Draw.MolToImage(mol, highlightAtoms=[a for match in matches for a in match])"
   ]
  },
  {
   "cell_type": "markdown",
   "id": "1fcf516a-abc5-4958-a2e1-ae6938b1e44e",
   "metadata": {},
   "source": [
    "### Find Stereoisomers"
   ]
  },
  {
   "cell_type": "code",
   "execution_count": null,
   "id": "22ef9f36-7cff-4b61-b3b3-19433f80b47a",
   "metadata": {},
   "outputs": [],
   "source": [
    "mol_stereo = Chem.MolFromSmiles(\"C1=CC=C(C=C1)CC(C(=O)O)N\") #phenylalanine\n",
    "mol_stereo"
   ]
  },
  {
   "cell_type": "code",
   "execution_count": null,
   "id": "3b221ba0-cacd-4ba3-a016-0046eb2da951",
   "metadata": {},
   "outputs": [],
   "source": [
    "# Can tell us how many stereocenters\n",
    "Chem.rdMolDescriptors.CalcNumAtomStereoCenters(mol_stereo)"
   ]
  },
  {
   "cell_type": "code",
   "execution_count": null,
   "id": "da27b86f-684f-401b-b699-92e1b9c3e130",
   "metadata": {},
   "outputs": [],
   "source": [
    "# Generate stereoisomers\n",
    "from rdkit.Chem.EnumerateStereoisomers import EnumerateStereoisomers, StereoEnumerationOptions\n",
    "\n",
    "stereo = list(EnumerateStereoisomers(mol_stereo))\n",
    "print(f\"Generated {len(stereo)} stereoisomers.\")"
   ]
  },
  {
   "cell_type": "code",
   "execution_count": null,
   "id": "bd00848b-1416-40bc-b1af-eef93decfc5b",
   "metadata": {},
   "outputs": [],
   "source": [
    "stereo[0]"
   ]
  },
  {
   "cell_type": "code",
   "execution_count": null,
   "id": "c2e6a2c7-fe25-464a-8d5f-8e11f95c589d",
   "metadata": {},
   "outputs": [],
   "source": [
    "stereo[1]"
   ]
  },
  {
   "cell_type": "markdown",
   "id": "70e32d70-880a-4129-9f21-cf8db759a310",
   "metadata": {},
   "source": [
    "## Explore: more <i>rdkit</i> functions\n",
    "\n",
    "[https://www.rdkit.org/docs/source/rdkit.Chem.html](https://www.rdkit.org/docs/source/rdkit.Chem.html)"
   ]
  },
  {
   "cell_type": "markdown",
   "id": "cfd40239-9811-4ed9-bcea-1e9c6dd5cb64",
   "metadata": {},
   "source": [
    "## Homework Exercise 1\n",
    "\n",
    "Buckminsterfullerene, with chemical formula C<sub>60</sub>, is made up entirely of five membered and six-membered rings. <br>\n",
    "\n",
    "For this exercise, you should:\n",
    ">1. Create a molecule representing buckminsterfullerene (Find the SMILES on PubChem).\n",
    ">2. Perform a substructure search to find the number of benzenes in the molecule.\n",
    ">3. Calculate the number of aromatic bonds.tic bonds."
   ]
  },
  {
   "cell_type": "markdown",
   "id": "fe3846fc-f7c8-4a40-bc9f-bb188b62a49e",
   "metadata": {},
   "source": [
    "## Homework Exercise 2\n",
    "\n",
    "Explore Lipophilicity Across a Small Molecule Set\n",
    "\n",
    "Provided below is a list of ~20 drug SMILES (e.g. aspirin, ibuprofen, caffeine, nicotine, glucose, etc.). Provide 5 custom molecules of your own!\n",
    "\n",
    "Tasks:\n",
    ">1. Parse all SMILES into RDKit molecules.\n",
    ">2. Calculate logP for each molecule using Descriptors.MolLogP.\n",
    ">3. Plot a histogram of logP values using matplotlib.\n",
    ">4. Answer: Which molecules are most hydrophilic and most lipophilic? Do the functional groups present explain the values?\n",
    "\n",
    "Note: LogP is the measure for lipophilicity (fat solubility) of an organic chemical compound. Typically, LogP < 0 indicates hydrophilic compounds and logP > 0 indicated lipophilic compounds."
   ]
  },
  {
   "cell_type": "code",
   "execution_count": null,
   "id": "70d6579f-7a48-4123-ad06-469d25c2a00b",
   "metadata": {},
   "outputs": [],
   "source": [
    "molecule_smiles = {\n",
    "    \"Aspirin\": \"CC(=O)OC1=CC=CC=C1C(=O)O\",\n",
    "    \"Ibuprofen\": \"CC(C)CC1=CC=C(C=C1)C(C)C(=O)O\",\n",
    "    \"Caffeine\": \"CN1C=NC2=C1C(=O)N(C(=O)N2C)C\",\n",
    "    \"Paracetamol\": \"CC(=O)NC1=CC=C(C=C1)O\",\n",
    "    \"Nicotine\": \"CN1CCCC1C2=CN=CC=C2\",\n",
    "    \"Morphine\": \"CN1CC[C@]23C4=C5C=CC(O)=C4O[C@H]2[C@@H](O)C=C[C@]3(O)C5=CC=C1\",\n",
    "    \"Penicillin G\": \"CC1(C)S[C@@H]2[C@H](NC(=O)C2SC1C(=O)O)C(=O)O\",\n",
    "    \"Glucose\": \"C([C@@H]1[C@H]([C@H]([C@@H](C(O1)O)O)O)O)O\",\n",
    "    \"Cholesterol\": \"C[C@H](CCC(=O)O)C1CCC2C3CCC4=CC(O)CCC4(C)C3CCC12C\",\n",
    "    \"Ethanol\": \"CCO\",\n",
    "    \"Benzene\": \"c1ccccc1\",\n",
    "    \"Acetic acid\": \"CC(=O)O\",\n",
    "    \"Chloroform\": \"ClC(Cl)Cl\",\n",
    "    \"Phenol\": \"c1ccccc1O\",\n",
    "    \"Aniline\": \"c1ccccc1N\",\n",
    "    \"Pyridine\": \"c1ccncc1\",\n",
    "    \"Toluene\": \"Cc1ccccc1\",\n",
    "    \"Methanol\": \"CO\",\n",
    "    \"Cortisone\": \"C[C@]12CCC(=O)C=C1C[C@@H]([C@@H]2C(=O)CO)O\",\n",
    "    \"Quinine\": \"CC(C)(C)C1=CC2=C(C=C1)NCC3=CC(=C(C=C3O2)O)O\",\n",
    "    \"Custom-1\": \" \",\n",
    "    \"Custom-2\": \" \",\n",
    "    \"Custom-3\": \" \",\n",
    "    \"Custom-4\": \" \",\n",
    "    \"Custom-5\": \" \"\n",
    "}\n"
   ]
  }
 ],
 "metadata": {
  "kernelspec": {
   "display_name": "Python 3 (ipykernel)",
   "language": "python",
   "name": "python3"
  },
  "language_info": {
   "codemirror_mode": {
    "name": "ipython",
    "version": 3
   },
   "file_extension": ".py",
   "mimetype": "text/x-python",
   "name": "python",
   "nbconvert_exporter": "python",
   "pygments_lexer": "ipython3",
   "version": "3.12.4"
  }
 },
 "nbformat": 4,
 "nbformat_minor": 5
}
